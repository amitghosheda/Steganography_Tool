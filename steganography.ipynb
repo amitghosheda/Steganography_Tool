{
  "nbformat": 4,
  "nbformat_minor": 0,
  "metadata": {
    "colab": {
      "provenance": []
    },
    "kernelspec": {
      "name": "python3",
      "display_name": "Python 3"
    },
    "language_info": {
      "name": "python"
    }
  },
  "cells": [
    {
      "cell_type": "markdown",
      "source": [
        "# **1. Encryption Without Password**"
      ],
      "metadata": {
        "id": "q4tTRhfi8k_I"
      }
    },
    {
      "cell_type": "code",
      "execution_count": null,
      "metadata": {
        "id": "nw4LNNRscw1E"
      },
      "outputs": [],
      "source": [
        "import cv2\n",
        "import numpy as np\n",
        "\n",
        "def encrypt_message(image_path, message, output_path):\n",
        "    img = cv2.imread(image_path, cv2.IMREAD_UNCHANGED)\n",
        "    if img is None:\n",
        "        print(\"Error: Image not found!\")\n",
        "        return\n",
        "\n",
        "    msg_len = len(message)\n",
        "    if msg_len > img.shape[0] * img.shape[1]:\n",
        "        print(\"Error: Message is too long for this image!\")\n",
        "        return\n",
        "\n",
        "    message = str(msg_len).zfill(5) + message  # Store length in first 5 chars\n",
        "    ascii_values = [ord(c) for c in message]\n",
        "\n",
        "    index = 0\n",
        "    for i in range(img.shape[0]):\n",
        "        for j in range(img.shape[1]):\n",
        "            if index < len(ascii_values):\n",
        "                img[i, j, 0] = ascii_values[index]  # Store in Blue channel\n",
        "                index += 1\n",
        "            else:\n",
        "                break\n",
        "\n",
        "    cv2.imwrite(output_path, img)\n",
        "    print(f\"Message encrypted successfully! Saved as {output_path}\")\n",
        "\n",
        "if __name__ == \"__main__\":\n",
        "    image_path = input(\"Enter image path: \")\n",
        "    message = input(\"Enter secret message: \")\n",
        "    output_path = \"encrypted_image.png\"\n",
        "    encrypt_message(image_path, message, output_path)\n"
      ]
    },
    {
      "cell_type": "markdown",
      "source": [
        "# **2. Decryption Without Password**"
      ],
      "metadata": {
        "id": "pfQSWHkZ8yVs"
      }
    },
    {
      "cell_type": "code",
      "execution_count": 41,
      "metadata": {
        "colab": {
          "base_uri": "https://localhost:8080/"
        },
        "outputId": "cfe0f7f9-a8c2-4042-f846-aa97ac1a0091",
        "id": "kvpa1evn5a3K"
      },
      "outputs": [
        {
          "output_type": "stream",
          "name": "stdout",
          "text": [
            "Enter encrypted image path: /content/encrypted_image.png\n",
            "\n",
            "Decrypted Message: Bt3A7EJO5VEQaMk0Wih1dQyq6btrqG/MLoAY6wcFp+k=\n"
          ]
        }
      ],
      "source": [
        "\n",
        "import cv2\n",
        "\n",
        "def decrypt_message(image_path):\n",
        "    img = cv2.imread(image_path, cv2.IMREAD_UNCHANGED)\n",
        "    if img is None:\n",
        "        print(\"Error: Image not found!\")\n",
        "        return\n",
        "\n",
        "    ascii_values = []\n",
        "    for i in range(img.shape[0]):\n",
        "        for j in range(img.shape[1]):\n",
        "            ascii_values.append(img[i, j, 0])\n",
        "\n",
        "    msg_length = int(\"\".join(chr(ascii_values[i]) for i in range(5)))  # First 5 chars = length\n",
        "    message = \"\".join(chr(ascii_values[i]) for i in range(5, 5 + msg_length))\n",
        "\n",
        "    print(\"\\nDecrypted Message:\", message)\n",
        "\n",
        "if __name__ == \"__main__\":\n",
        "    image_path = input(\"Enter encrypted image path: \")\n",
        "    decrypt_message(image_path)\n"
      ]
    },
    {
      "cell_type": "markdown",
      "source": [
        "# **3. Encryption using a Password**\n",
        "\n",
        "*   Enter Image Path\n",
        "*   Enter Your Secret Message\n",
        "*   Enter Password\n",
        "*   You will get your Encrypted image as encrypted_image.png\n",
        "\n",
        "\n",
        "\n",
        "\n",
        "\n"
      ],
      "metadata": {
        "id": "HixESzRZB34h"
      }
    },
    {
      "cell_type": "code",
      "source": [
        "import cv2\n",
        "import hashlib\n",
        "import numpy as np\n",
        "from Crypto.Cipher import AES\n",
        "import base64\n",
        "\n",
        "def pad_message(message):\n",
        "    return message + (16 - len(message) % 16) * chr(16 - len(message) % 16)\n",
        "\n",
        "def encrypt_aes(message, password):\n",
        "    key = hashlib.sha256(password.encode()).digest()\n",
        "    cipher = AES.new(key, AES.MODE_ECB)\n",
        "    encrypted_msg = cipher.encrypt(pad_message(message).encode())\n",
        "    return base64.b64encode(encrypted_msg).decode()\n",
        "\n",
        "def encrypt_message(image_path, message, password, output_path):\n",
        "    img = cv2.imread(image_path, cv2.IMREAD_UNCHANGED)\n",
        "    if img is None:\n",
        "        print(\"Error: Image not found!\")\n",
        "        return\n",
        "\n",
        "    encrypted_msg = encrypt_aes(message, password)\n",
        "    msg_len = len(encrypted_msg)\n",
        "\n",
        "    if msg_len > img.shape[0] * img.shape[1]:\n",
        "        print(\"Error: Message is too long for this image!\")\n",
        "        return\n",
        "\n",
        "    # Store message length in first 5 pixels\n",
        "    encrypted_msg = str(msg_len).zfill(5) + encrypted_msg\n",
        "    ascii_values = [ord(c) for c in encrypted_msg]\n",
        "\n",
        "    index = 0\n",
        "    for i in range(img.shape[0]):\n",
        "        for j in range(img.shape[1]):\n",
        "            if index < len(ascii_values):\n",
        "                img[i, j, 0] = ascii_values[index]  # Store in Blue channel\n",
        "                index += 1\n",
        "            else:\n",
        "                break\n",
        "\n",
        "    cv2.imwrite(output_path, img)\n",
        "    print(f\"Message encrypted successfully! Saved as {output_path}\")\n",
        "\n",
        "if __name__ == \"__main__\":\n",
        "    image_path = input(\"Enter image path: \")\n",
        "    message = input(\"Enter secret message: \")\n",
        "    password = input(\"Set a password: \")\n",
        "    output_path = \"encrypted_image.png\"\n",
        "    encrypt_message(image_path, message, password, output_path)\n"
      ],
      "metadata": {
        "colab": {
          "base_uri": "https://localhost:8080/"
        },
        "id": "IwXYGy_j93h-",
        "outputId": "a80047e0-d83c-48a5-b070-11f6e3c15a2f"
      },
      "execution_count": 39,
      "outputs": [
        {
          "output_type": "stream",
          "name": "stdout",
          "text": [
            "Enter image path: /content/mypic.jpg\n",
            "Enter secret message: Hi, This is Amit !\n",
            "Set a password: Amit@007\n",
            "Message encrypted successfully! Saved as encrypted_image.png\n"
          ]
        }
      ]
    },
    {
      "cell_type": "markdown",
      "source": [
        "# **4. Decryption using a Password**\n",
        "\n",
        "*   Enter Image Path\n",
        "*   Enter Password\n",
        "*   You will get your decrypted message"
      ],
      "metadata": {
        "id": "e1tIgQz6Coeh"
      }
    },
    {
      "cell_type": "code",
      "source": [
        "import cv2\n",
        "import hashlib\n",
        "import base64\n",
        "from Crypto.Cipher import AES\n",
        "\n",
        "def unpad_message(message):\n",
        "    return message[:-ord(message[-1])]\n",
        "\n",
        "def decrypt_aes(encrypted_msg, password):\n",
        "    key = hashlib.sha256(password.encode()).digest()\n",
        "    cipher = AES.new(key, AES.MODE_ECB)\n",
        "    decrypted_msg = cipher.decrypt(base64.b64decode(encrypted_msg)).decode()\n",
        "    return unpad_message(decrypted_msg)\n",
        "\n",
        "def decrypt_message(image_path, password):\n",
        "    img = cv2.imread(image_path, cv2.IMREAD_UNCHANGED)\n",
        "    if img is None:\n",
        "        print(\"Error: Image not found!\")\n",
        "        return\n",
        "\n",
        "    ascii_values = []\n",
        "    for i in range(img.shape[0]):\n",
        "        for j in range(img.shape[1]):\n",
        "            ascii_values.append(img[i, j, 0])\n",
        "\n",
        "    msg_length = int(\"\".join(chr(ascii_values[i]) for i in range(5)))  # First 5 chars = length\n",
        "    encrypted_msg = \"\".join(chr(ascii_values[i]) for i in range(5, 5 + msg_length))\n",
        "\n",
        "    try:\n",
        "        decrypted_msg = decrypt_aes(encrypted_msg, password)\n",
        "        print(\"\\nDecrypted Message:\", decrypted_msg)\n",
        "    except:\n",
        "        print(\"Error: Incorrect password or corrupted data!\")\n",
        "\n",
        "if __name__ == \"__main__\":\n",
        "    image_path = input(\"Enter encrypted image path: \")\n",
        "    password = input(\"Enter password for decryption: \")\n",
        "    decrypt_message(image_path, password)\n"
      ],
      "metadata": {
        "colab": {
          "base_uri": "https://localhost:8080/"
        },
        "id": "JNr6nRxH947I",
        "outputId": "aeb691e8-084b-4c69-c7c5-f1936c02d561"
      },
      "execution_count": 40,
      "outputs": [
        {
          "output_type": "stream",
          "name": "stdout",
          "text": [
            "Enter encrypted image path: /content/encrypted_image.png\n",
            "Enter password for decryption: Amit@007\n",
            "\n",
            "Decrypted Message: Hi, This is Amit !\n"
          ]
        }
      ]
    },
    {
      "cell_type": "markdown",
      "source": [
        "# **5. Find the secret Message directly From the Encrypted Text**"
      ],
      "metadata": {
        "id": "yUYVfw3gAo2g"
      }
    },
    {
      "cell_type": "code",
      "source": [
        "import base64\n",
        "import hashlib\n",
        "from Crypto.Cipher import AES\n",
        "\n",
        "def decrypt_aes(encrypted_msg, password):\n",
        "    key = hashlib.sha256(password.encode()).digest()  # Generate 256-bit key\n",
        "    cipher = AES.new(key, AES.MODE_ECB)  # ECB mode\n",
        "    decrypted_msg = cipher.decrypt(base64.b64decode(encrypted_msg))\n",
        "\n",
        "    # Remove padding\n",
        "    pad_length = decrypted_msg[-1]\n",
        "    decrypted_msg = decrypted_msg[:-pad_length]\n",
        "\n",
        "    return decrypted_msg.decode()\n",
        "\n",
        "# Encrypted text (Base64 format)\n",
        "encrypted_text = \"Bt3A7EJO5VEQaMk0Wih1dQyq6btrqG/MLoAY6wcFp+k=\"\n",
        "password = \"Amit@007\"  # Your password\n",
        "\n",
        "try:\n",
        "    decrypted_message = decrypt_aes(encrypted_text, password)\n",
        "    print(\"Decrypted message:\", decrypted_message)\n",
        "except Exception as e:\n",
        "    print(\"Decryption failed:\", e)\n"
      ],
      "metadata": {
        "colab": {
          "base_uri": "https://localhost:8080/"
        },
        "id": "_2KndNoFAdrn",
        "outputId": "c93d4092-3a3a-4f28-a71a-c72c88736d26"
      },
      "execution_count": 42,
      "outputs": [
        {
          "output_type": "stream",
          "name": "stdout",
          "text": [
            "Decrypted message: Hi, This is Amit !\n"
          ]
        }
      ]
    },
    {
      "cell_type": "markdown",
      "source": [
        "# **This is Testing Purpose Only**"
      ],
      "metadata": {
        "id": "jXC-NjZtBSUH"
      }
    },
    {
      "cell_type": "code",
      "source": [
        "import cv2\n",
        "import os\n",
        "import string\n",
        "\n",
        "img = cv2.imread(\"mypic.jpg\") # Replace with the correct image path\n",
        "\n",
        "msg = input(\"Enter secret message:\")\n",
        "password = input(\"Enter a passcode:\")\n",
        "\n",
        "d = {}\n",
        "c = {}\n",
        "\n",
        "for i in range(255):\n",
        "    d[chr(i)] = i\n",
        "    c[i] = chr(i)\n",
        "\n",
        "m = 0\n",
        "n = 0\n",
        "z = 0\n",
        "\n",
        "for i in range(len(msg)):\n",
        "    img[n, m, z] = d[msg[i]]\n",
        "    n = n + 1\n",
        "    m = m + 1\n",
        "    z = (z + 1) % 3\n",
        "\n",
        "cv2.imwrite(\"encryptedImage.jpg\", img)\n",
        "os.system(\"start encryptedImage.jpg\")  # Use 'start' to open the image on Windows\n",
        "\n",
        "message = \"\"\n",
        "n = 0\n",
        "m = 0\n",
        "z = 0\n",
        "\n",
        "pas = input(\"Enter passcode for Decryption\")\n",
        "if password == pas:\n",
        "    for i in range(len(msg)):\n",
        "        message = message + c[img[n, m, z]]\n",
        "        n = n + 1\n",
        "        m = m + 1\n",
        "        z = (z + 1) % 3\n",
        "    print(\"Decryption message:\", message)\n",
        "else:\n",
        "    print(\"YOU ARE NOT auth\")"
      ],
      "metadata": {
        "colab": {
          "base_uri": "https://localhost:8080/"
        },
        "id": "uJLjyfI98VdU",
        "outputId": "2c126fae-7587-405c-c742-6aff4d6532c6"
      },
      "execution_count": 19,
      "outputs": [
        {
          "output_type": "stream",
          "name": "stdout",
          "text": [
            "Enter secret message:KKM\n",
            "Enter a passcode:1111\n",
            "Enter passcode for Decryption11\n",
            "YOU ARE NOT auth\n"
          ]
        }
      ]
    }
  ]
}
